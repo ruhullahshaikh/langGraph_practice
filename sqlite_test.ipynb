{
 "cells": [
  {
   "cell_type": "code",
   "execution_count": 1,
   "id": "2de4d6a8",
   "metadata": {},
   "outputs": [],
   "source": [
    "import sqlite3\n",
    "\n",
    "\n",
    "conn = sqlite3.connect(\"mydb.sqlite\")\n",
    "cursor = conn.cursor()"
   ]
  },
  {
   "cell_type": "code",
   "execution_count": 2,
   "id": "aa293e4f",
   "metadata": {},
   "outputs": [
    {
     "data": {
      "text/plain": [
       "<sqlite3.Cursor at 0x16cf13db240>"
      ]
     },
     "execution_count": 2,
     "metadata": {},
     "output_type": "execute_result"
    }
   ],
   "source": [
    "cursor.execute(\"\"\"\n",
    "CREATE TABLE IF NOT EXISTS users (\n",
    "    id INTEGER PRIMARY KEY AUTOINCREMENT,\n",
    "    name TEXT NOT NULL,\n",
    "    age INTEGER\n",
    ")\n",
    "\"\"\")"
   ]
  },
  {
   "cell_type": "code",
   "execution_count": 3,
   "id": "6949d049",
   "metadata": {},
   "outputs": [],
   "source": [
    "cursor.execute(\"INSERT INTO users (name, age) VALUES (?, ?)\", (\"Alice\", 25))\n",
    "cursor.execute(\"INSERT INTO users (name, age) VALUES (?, ?)\", (\"Bob\", 30))\n",
    "conn.commit()  # Save changes"
   ]
  },
  {
   "cell_type": "code",
   "execution_count": 4,
   "id": "d7be95ff",
   "metadata": {},
   "outputs": [
    {
     "name": "stdout",
     "output_type": "stream",
     "text": [
      "(1, 'Alice', 25)\n",
      "(2, 'Bob', 30)\n"
     ]
    }
   ],
   "source": [
    "cursor.execute(\"SELECT * FROM users\")\n",
    "rows = cursor.fetchall()\n",
    "for row in rows:\n",
    "    print(row)\n"
   ]
  },
  {
   "cell_type": "code",
   "execution_count": null,
   "id": "cfe96e38",
   "metadata": {},
   "outputs": [],
   "source": [
    "# cursor.execute(\"UPDATE users SET age = ? WHERE name = ?\", (26, \"Alice\"))\n",
    "# cursor.execute(\"DELETE FROM users WHERE name = ?\", (\"Bob\",))\n",
    "# conn.commit()\n"
   ]
  },
  {
   "cell_type": "code",
   "execution_count": 5,
   "id": "2c05ce25",
   "metadata": {},
   "outputs": [
    {
     "name": "stdout",
     "output_type": "stream",
     "text": [
      "📌 Tables in database:\n",
      " - users\n",
      " - sqlite_sequence\n",
      "\n",
      "\n"
     ]
    }
   ],
   "source": [
    "# --- View all tables in the database ---\n",
    "print(\"📌 Tables in database:\")\n",
    "cursor.execute(\"SELECT name FROM sqlite_master WHERE type='table';\")\n",
    "for table in cursor.fetchall():\n",
    "    print(\" -\", table[0])\n",
    "\n",
    "print(\"\\n\")"
   ]
  },
  {
   "cell_type": "code",
   "execution_count": 7,
   "id": "dadb54b7",
   "metadata": {},
   "outputs": [
    {
     "name": "stdout",
     "output_type": "stream",
     "text": [
      "📌 Columns in table 'users':\n",
      "(0, 'id', 'INTEGER', 0, None, 1)\n",
      "(1, 'name', 'TEXT', 1, None, 0)\n",
      "(2, 'age', 'INTEGER', 0, None, 0)\n",
      "\n",
      "\n"
     ]
    }
   ],
   "source": [
    "# --- View columns of a table (e.g., 'users') ---\n",
    "table_name = \"users\"\n",
    "print(f\"📌 Columns in table '{table_name}':\")\n",
    "cursor.execute(f\"PRAGMA table_info({table_name});\")\n",
    "for col in cursor.fetchall():\n",
    "    print(col)  # (cid, name, type, notnull, dflt_value, pk)\n",
    "\n",
    "print(\"\\n\")"
   ]
  },
  {
   "cell_type": "code",
   "execution_count": null,
   "id": "b4a493ce",
   "metadata": {},
   "outputs": [
    {
     "name": "stdout",
     "output_type": "stream",
     "text": [
      "📌 Data in table 'users':\n",
      "id | name | age\n",
      "----------------------------------------\n",
      "1 | Alice | 25\n",
      "2 | Bob | 30\n"
     ]
    }
   ],
   "source": [
    "import pandas as pd\n",
    "\n",
    "# --- View all rows in table in row/column view ---\n",
    "print(f\"📌 Data in table '{table_name}':\")\n",
    "cursor.execute(f\"SELECT * FROM {table_name};\")\n",
    "rows = cursor.fetchall()\n",
    "\n",
    "# Get column names\n",
    "col_names = [description[0] for description in cursor.description]\n",
    "print(\" | \".join(col_names))  # header\n",
    "print(\"-\" * 40)\n",
    "\n",
    "# Print each row in table view\n",
    "for row in rows:\n",
    "    print(\" | \".join(str(x) for x in row))"
   ]
  },
  {
   "cell_type": "code",
   "execution_count": 10,
   "id": "02e4bc8c",
   "metadata": {},
   "outputs": [
    {
     "name": "stdout",
     "output_type": "stream",
     "text": [
      "   id   name  age\n",
      "0   1  Alice   25\n",
      "1   2    Bob   30\n"
     ]
    }
   ],
   "source": [
    "import sqlite3\n",
    "import pandas as pd\n",
    "\n",
    "# Connect to DB\n",
    "conn = sqlite3.connect(\"mydb.sqlite\")\n",
    "\n",
    "table_name = \"users\"\n",
    "\n",
    "# Run query and load directly into DataFrame\n",
    "df = pd.read_sql_query(f\"SELECT * FROM {table_name};\", conn)\n",
    "\n",
    "# Show DataFrame\n",
    "print(df)\n",
    "\n",
    "# Close connection\n",
    "conn.close()\n"
   ]
  },
  {
   "cell_type": "code",
   "execution_count": null,
   "id": "d5e9ed05",
   "metadata": {},
   "outputs": [],
   "source": []
  },
  {
   "cell_type": "code",
   "execution_count": null,
   "id": "230c8e57",
   "metadata": {},
   "outputs": [],
   "source": []
  }
 ],
 "metadata": {
  "kernelspec": {
   "display_name": "metrix",
   "language": "python",
   "name": "python3"
  },
  "language_info": {
   "codemirror_mode": {
    "name": "ipython",
    "version": 3
   },
   "file_extension": ".py",
   "mimetype": "text/x-python",
   "name": "python",
   "nbconvert_exporter": "python",
   "pygments_lexer": "ipython3",
   "version": "3.12.11"
  }
 },
 "nbformat": 4,
 "nbformat_minor": 5
}
