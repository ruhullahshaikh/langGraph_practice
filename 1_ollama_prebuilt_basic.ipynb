{
 "cells": [
  {
   "cell_type": "code",
   "execution_count": 4,
   "id": "82690586",
   "metadata": {},
   "outputs": [],
   "source": [
    "from langchain_ollama import ChatOllama\n",
    "from langgraph.prebuilt import create_react_agent\n",
    "from langgraph.checkpoint.memory import MemorySaver"
   ]
  },
  {
   "cell_type": "code",
   "execution_count": 5,
   "id": "cc6749d8",
   "metadata": {},
   "outputs": [],
   "source": [
    "llm = ChatOllama(\n",
    "    model=\"dolphin3:latest\", \n",
    "    temperature=0\n",
    ")\n",
    "\n",
    "tools = []\n",
    "\n",
    "checkpointer = MemorySaver()"
   ]
  },
  {
   "cell_type": "code",
   "execution_count": 6,
   "id": "aefad795",
   "metadata": {},
   "outputs": [],
   "source": [
    "agent = create_react_agent(\n",
    "    model=llm,\n",
    "    tools=tools,\n",
    "    checkpointer=checkpointer,\n",
    ")"
   ]
  },
  {
   "cell_type": "code",
   "execution_count": 7,
   "id": "bbb0d186",
   "metadata": {},
   "outputs": [],
   "source": [
    "thread_id = \"ollama-thread\""
   ]
  },
  {
   "cell_type": "code",
   "execution_count": 10,
   "id": "d500ed51",
   "metadata": {},
   "outputs": [
    {
     "name": "stdout",
     "output_type": "stream",
     "text": [
      "Bot: Yes, the answer to 25 times 12 is still 300. Would you like help with anything else?\n"
     ]
    }
   ],
   "source": [
    "# First message\n",
    "response1 = agent.invoke(\n",
    "    {\"messages\": [{\"role\": \"user\", \"content\": \"Can you also solve 25 * 12?\"}]},\n",
    "    config={\"configurable\": {\"thread_id\": thread_id}},\n",
    ")\n",
    "print(\"Bot:\", response1[\"messages\"][-1].content)\n"
   ]
  },
  {
   "cell_type": "code",
   "execution_count": 11,
   "id": "d828dcc9",
   "metadata": {},
   "outputs": [
    {
     "name": "stdout",
     "output_type": "stream",
     "text": [
      "Bot: Of course! When you multiply numbers together, you are essentially adding a number a certain number of times. So when we multiply 25 by 12, it's the same as adding 25 to itself 12 times.\n",
      "\n",
      "25 + 25 + 25 + 25 + 25 + 25 + 25 + 25 + 25 + 25 + 25 + 25 = 300\n",
      "\n",
      "So, 25 * 12 equals 300.\n"
     ]
    }
   ],
   "source": [
    "# Follow-up (same thread → remembers context)\n",
    "response2 = agent.invoke(\n",
    "    {\"messages\": [{\"role\": \"user\", \"content\": \"can you elaborate\"}]},\n",
    "    config={\"configurable\": {\"thread_id\": thread_id}},\n",
    ")\n",
    "print(\"Bot:\", response2[\"messages\"][-1].content)"
   ]
  },
  {
   "cell_type": "code",
   "execution_count": null,
   "id": "896b9a8d",
   "metadata": {},
   "outputs": [],
   "source": []
  },
  {
   "cell_type": "code",
   "execution_count": null,
   "id": "9a492952",
   "metadata": {},
   "outputs": [],
   "source": []
  },
  {
   "cell_type": "code",
   "execution_count": null,
   "id": "cfadfbd3",
   "metadata": {},
   "outputs": [],
   "source": []
  },
  {
   "cell_type": "code",
   "execution_count": null,
   "id": "f141b2d0",
   "metadata": {},
   "outputs": [],
   "source": []
  }
 ],
 "metadata": {
  "kernelspec": {
   "display_name": "metrix",
   "language": "python",
   "name": "python3"
  },
  "language_info": {
   "codemirror_mode": {
    "name": "ipython",
    "version": 3
   },
   "file_extension": ".py",
   "mimetype": "text/x-python",
   "name": "python",
   "nbconvert_exporter": "python",
   "pygments_lexer": "ipython3",
   "version": "3.12.11"
  }
 },
 "nbformat": 4,
 "nbformat_minor": 5
}
