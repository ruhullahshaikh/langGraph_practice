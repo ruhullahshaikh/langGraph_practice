{
 "cells": [
  {
   "cell_type": "code",
   "execution_count": 1,
   "id": "3cd637b7",
   "metadata": {},
   "outputs": [
    {
     "data": {
      "text/plain": [
       "True"
      ]
     },
     "execution_count": 1,
     "metadata": {},
     "output_type": "execute_result"
    }
   ],
   "source": [
    "from typing import Annotated, TypedDict\n",
    "from langgraph.graph import StateGraph, START, END\n",
    "from langgraph.graph.message import add_messages\n",
    "from langgraph.prebuilt import ToolNode, tools_condition\n",
    "from langgraph.checkpoint.memory import InMemorySaver\n",
    "\n",
    "from langchain_core.tools import tool\n",
    "from langchain_ollama import ChatOllama\n",
    "from langchain_tavily import TavilySearch\n",
    "from dotenv import load_dotenv\n",
    "import os\n",
    "load_dotenv()"
   ]
  },
  {
   "cell_type": "code",
   "execution_count": 2,
   "id": "fdfe9cac",
   "metadata": {},
   "outputs": [],
   "source": [
    "TAVILY_API_KEY = os.getenv(\"TAVILY_API_KEY\")"
   ]
  },
  {
   "cell_type": "code",
   "execution_count": 3,
   "id": "c17bd510",
   "metadata": {},
   "outputs": [],
   "source": [
    "class State(TypedDict):\n",
    "    messages: Annotated[list, add_messages]\n",
    "\n",
    "graph_builder = StateGraph(State)"
   ]
  },
  {
   "cell_type": "code",
   "execution_count": 4,
   "id": "87d47ddd",
   "metadata": {},
   "outputs": [],
   "source": [
    "system_prompt = \"\"\"You are a helpful AI assistant.\n",
    "- Use Tavily Search ONLY when the user asks about recent, factual, or web-based information.\n",
    "- If the question is simple or general knowledge, answer directly without calling tools.\n",
    "\"\"\"\n",
    "\n",
    "\n",
    "llm = ChatOllama(model=\"llama3.1:8b\", \n",
    "                 temperature=0,\n",
    "                 system=system_prompt)\n",
    "\n",
    "\n",
    "tavily_tool = TavilySearch(\n",
    "    tavily_api_key=TAVILY_API_KEY,\n",
    "    max_results=3\n",
    ")\n",
    "\n",
    "tools = [tavily_tool]\n",
    "\n",
    "llm_with_tools = llm.bind_tools(tools)"
   ]
  },
  {
   "cell_type": "code",
   "execution_count": 5,
   "id": "d8368713",
   "metadata": {},
   "outputs": [
    {
     "data": {
      "text/plain": [
       "RunnableBinding(bound=ChatOllama(model='llama3.1:8b', temperature=0.0), kwargs={'tools': [{'type': 'function', 'function': {'name': 'tavily_search', 'description': 'A search engine optimized for comprehensive, accurate, and trusted results. Useful for when you need to answer questions about current events. It not only retrieves URLs and snippets, but offers advanced search depths, domain management, time range filters, and image search, this tool delivers real-time, accurate, and citation-backed results.Input should be a search query.', 'parameters': {'properties': {'query': {'description': 'Search query to look up', 'type': 'string'}, 'include_domains': {'anyOf': [{'items': {'type': 'string'}, 'type': 'array'}, {'type': 'null'}], 'default': [], 'description': 'A list of domains to restrict search results to.\\n\\n        Use this parameter when:\\n        1. The user explicitly requests information from specific websites (e.g., \"Find climate data from nasa.gov\")\\n        2. The user mentions an organization or company without specifying the domain (e.g., \"Find information about iPhones from Apple\")\\n\\n        In both cases, you should determine the appropriate domains (e.g., [\"nasa.gov\"] or [\"apple.com\"]) and set this parameter.\\n\\n        Results will ONLY come from the specified domains - no other sources will be included.\\n        Default is None (no domain restriction).\\n        '}, 'exclude_domains': {'anyOf': [{'items': {'type': 'string'}, 'type': 'array'}, {'type': 'null'}], 'default': [], 'description': 'A list of domains to exclude from search results.\\n\\n        Use this parameter when:\\n        1. The user explicitly requests to avoid certain websites (e.g., \"Find information about climate change but not from twitter.com\")\\n        2. The user mentions not wanting results from specific organizations without naming the domain (e.g., \"Find phone reviews but nothing from Apple\")\\n\\n        In both cases, you should determine the appropriate domains to exclude (e.g., [\"twitter.com\"] or [\"apple.com\"]) and set this parameter.\\n\\n        Results will filter out all content from the specified domains.\\n        Default is None (no domain exclusion).\\n        '}, 'search_depth': {'anyOf': [{'enum': ['basic', 'advanced'], 'type': 'string'}, {'type': 'null'}], 'default': 'basic', 'description': 'Controls search thoroughness and result comprehensiveness.\\n    \\n        Use \"basic\" for simple queries requiring quick, straightforward answers.\\n        \\n        Use \"advanced\" (default) for complex queries, specialized topics, \\n        rare information, or when in-depth analysis is needed.\\n        '}, 'include_images': {'anyOf': [{'type': 'boolean'}, {'type': 'null'}], 'default': False, 'description': 'Determines if the search returns relevant images along with text results.\\n   \\n        Set to True when the user explicitly requests visuals or when images would \\n        significantly enhance understanding (e.g., \"Show me what black holes look like,\" \\n        \"Find pictures of Renaissance art\").\\n        \\n        Leave as False (default) for most informational queries where text is sufficient.\\n        '}, 'time_range': {'anyOf': [{'enum': ['day', 'week', 'month', 'year'], 'type': 'string'}, {'type': 'null'}], 'default': None, 'description': 'Limits results to content published within a specific timeframe.\\n        \\n        ONLY set this when the user explicitly mentions a time period \\n        (e.g., \"latest AI news,\" \"articles from last week\").\\n        \\n        For less popular or niche topics, use broader time ranges \\n        (\"month\" or \"year\") to ensure sufficient relevant results.\\n   \\n        Options: \"day\" (24h), \"week\" (7d), \"month\" (30d), \"year\" (365d).\\n        \\n        Default is None.\\n        '}, 'topic': {'anyOf': [{'enum': ['general', 'news', 'finance'], 'type': 'string'}, {'type': 'null'}], 'default': 'general', 'description': 'Specifies search category for optimized results.\\n   \\n        Use \"general\" (default) for most queries, INCLUDING those with terms like \\n        \"latest,\" \"newest,\" or \"recent\" when referring to general information.\\n\\n        Use \"finance\" for markets, investments, economic data, or financial news.\\n\\n        Use \"news\" ONLY for politics, sports, or major current events covered by \\n        mainstream media - NOT simply because a query asks for \"new\" information.\\n        '}, 'include_favicon': {'anyOf': [{'type': 'boolean'}, {'type': 'null'}], 'default': False, 'description': \"Determines whether to include favicon URLs for each search result.\\n        \\n        When enabled, each search result will include the website's favicon URL,\\n        which can be useful for:\\n        - Building rich UI interfaces with visual website indicators\\n        - Providing visual cues about the source's credibility or brand\\n        - Creating bookmark-like displays with recognizable site icons\\n        \\n        Set to True when creating user interfaces that benefit from visual branding\\n        or when favicon information enhances the user experience.\\n        \\n        Default is False to minimize response size and API usage.\\n        \"}, 'start_date': {'anyOf': [{'type': 'string'}, {'type': 'null'}], 'default': None, 'description': 'Filters search results to include only content published on or after this date.\\n        \\n        Use this parameter when you need to:\\n        - Find recent developments or updates on a topic\\n        - Exclude outdated information from search results\\n        - Focus on content within a specific timeframe\\n        - Combine with end_date to create a custom date range\\n        \\n        Format must be YYYY-MM-DD (e.g., \"2024-01-15\" for January 15, 2024).\\n        \\n        Examples:\\n        - \"2024-01-01\" - Results from January 1, 2024 onwards\\n        - \"2023-12-25\" - Results from December 25, 2023 onwards\\n        \\n        When combined with end_date, creates a precise date range filter.\\n        \\n        Default is None (no start date restriction).\\n        '}, 'end_date': {'anyOf': [{'type': 'string'}, {'type': 'null'}], 'default': None, 'description': 'Filters search results to include only content published on or before this date.\\n        \\n        Use this parameter when you need to:\\n        - Exclude content published after a certain date\\n        - Study historical information or past events\\n        - Research how topics were covered during specific time periods\\n        - Combine with start_date to create a custom date range\\n        \\n        Format must be YYYY-MM-DD (e.g., \"2024-03-31\" for March 31, 2024).\\n        \\n        Examples:\\n        - \"2024-03-31\" - Results up to and including March 31, 2024\\n        - \"2023-12-31\" - Results up to and including December 31, 2023\\n        \\n        When combined with start_date, creates a precise date range filter.\\n        For example: start_date=\"2024-01-01\", end_date=\"2024-03-31\" \\n        returns results from Q1 2024 only.\\n        \\n        Default is None (no end date restriction).\\n        '}}, 'required': ['query'], 'type': 'object'}}}]}, config={}, config_factories=[])"
      ]
     },
     "execution_count": 5,
     "metadata": {},
     "output_type": "execute_result"
    }
   ],
   "source": [
    "llm_with_tools"
   ]
  },
  {
   "cell_type": "code",
   "execution_count": 6,
   "id": "39ec290e",
   "metadata": {},
   "outputs": [
    {
     "data": {
      "text/plain": [
       "<langgraph.graph.state.StateGraph at 0x241f7314a40>"
      ]
     },
     "execution_count": 6,
     "metadata": {},
     "output_type": "execute_result"
    }
   ],
   "source": [
    "def chatbot_node(state: State):\n",
    "    response = llm_with_tools.invoke(state[\"messages\"])\n",
    "    if hasattr(response, \"tool_calls\") and response.tool_calls:\n",
    "        for tc in response.tool_calls:\n",
    "            print(f\"[TOOL CALL] Model requested tool: {tc['name']} with args: {tc['args']}\")\n",
    "    else:\n",
    "        print(\"[NO TOOL CALL] Model responded directly.\")\n",
    "\n",
    "    return {\"messages\": [response]}\n",
    "\n",
    "graph_builder.add_node(\"chatbot\", chatbot_node)"
   ]
  },
  {
   "cell_type": "code",
   "execution_count": 7,
   "id": "fd18b82b",
   "metadata": {},
   "outputs": [
    {
     "data": {
      "text/plain": [
       "<langgraph.graph.state.StateGraph at 0x241f7314a40>"
      ]
     },
     "execution_count": 7,
     "metadata": {},
     "output_type": "execute_result"
    }
   ],
   "source": [
    "# Tool execution node\n",
    "tool_node = ToolNode(tools=tools)\n",
    "graph_builder.add_node(\"tools\", tool_node)"
   ]
  },
  {
   "cell_type": "code",
   "execution_count": 8,
   "id": "ea644753",
   "metadata": {},
   "outputs": [
    {
     "data": {
      "text/plain": [
       "<langgraph.graph.state.StateGraph at 0x241f7314a40>"
      ]
     },
     "execution_count": 8,
     "metadata": {},
     "output_type": "execute_result"
    }
   ],
   "source": [
    "graph_builder.add_edge(START, \"chatbot\")\n",
    "graph_builder.add_conditional_edges(\"chatbot\", tools_condition) \n",
    "graph_builder.add_edge(\"tools\", \"chatbot\")\n",
    "graph_builder.add_edge(\"chatbot\", END)"
   ]
  },
  {
   "cell_type": "code",
   "execution_count": 9,
   "id": "7da152fc",
   "metadata": {},
   "outputs": [],
   "source": [
    "memory = InMemorySaver()\n",
    "graph = graph_builder.compile(checkpointer=memory)"
   ]
  },
  {
   "cell_type": "code",
   "execution_count": 10,
   "id": "11f80421",
   "metadata": {},
   "outputs": [
    {
     "data": {
      "image/png": "[encoded data removed]",
      "text/plain": [
       "<langgraph.graph.state.CompiledStateGraph object at 0x00000241F7317DA0>"
      ]
     },
     "execution_count": 10,
     "metadata": {},
     "output_type": "execute_result"
    }
   ],
   "source": [
    "graph"
   ]
  },
  {
   "cell_type": "code",
   "execution_count": 11,
   "id": "f17a32d0",
   "metadata": {},
   "outputs": [
    {
     "name": "stdout",
     "output_type": "stream",
     "text": [
      "Bot: who is the ceo of apple\n",
      "[TOOL CALL] Model requested tool: tavily_search with args: {'include_domains': ['apple.com'], 'query': 'apple CEO'}\n",
      "Bot: \n",
      "Bot: {\"query\": \"apple CEO\", \"follow_up_questions\": null, \"answer\": null, \"images\": [], \"results\": [{\"url\": \"https://www.apple.com/leadership/tim-cook/\", \"title\": \"Tim Cook - Apple Leadership\", \"content\": \"# Tim Cook Tim Cook is the CEO of Apple and serves on its board of directors. Before being named CEO in August 2011, Tim was Apple’s chief operating officer and was responsible for all of the company’s worldwide sales and operations, including end-to-end management of Apple’s supply chain, sales activities, and service and support in all markets and countries. Prior to joining Apple, Tim was vice president of Corporate Materials for Compaq and was responsible for procuring and managing all of Compaq’s product inventory. Previous to his work at Compaq, Tim was the chief operating officer of the Reseller Division at Intelligent Electronics. Tim also spent 12 years with IBM, most recently as director of North American Fulfillment where he led manufacturing and distribution functions for IBM’s Personal Computer Company in North and Latin America.\", \"score\": 0.50329643, \"raw_content\": null}, {\"url\": \"https://www.apple.com/newsroom/2025/07/apple-announces-chief-operating-officer-transition/\", \"title\": \"Apple announces chief operating officer transition\", \"content\": \"Williams will continue reporting to Apple CEO Tim Cook and overseeing Apple’s world-class design team and Apple Watch alongside the company’s Health initiatives. He’s helped to create one of the most respected global supply chains in the world; launched Apple Watch and overseen its development; architected Apple’s health strategy; and led our world-class team of designers with great wisdom, heart, and dedication,” said Tim Cook, Apple’s CEO. He’s helped to create one of the most respected global supply chains in the world; launched Apple Watch and overseen its development; architected Apple’s health strategy; and led our world-class team of designers with great wisdom, heart, and dedication,” said Tim Cook, Apple’s CEO. **About Apple** Apple Apple Apple Apple\", \"score\": 0.40938663, \"raw_content\": null}, {\"url\": \"https://podcasts.apple.com/hu/podcast/tim-cook-what-it-takes-to-run-apple-the-worlds/id1608224209?i=1000635036014&l=hu\", \"title\": \"Tim Cook: What it takes to run Apple, the world's largest company\", \"content\": \"In a rare podcast appearance, Apple CEO Tim Cook joins Dua Lipa to dive into the profound impact of artificial intelligence, the ever-evolving tech landscape\", \"score\": 0.39075536, \"raw_content\": null}], \"response_time\": 1.29, \"request_id\": \"d34244df-9eb0-41be-9f85-82a8c4c8a982\"}\n",
      "[NO TOOL CALL] Model responded directly.\n",
      "Bot: The current CEO of Apple is Tim Cook. He has been serving as the CEO since August 2011 and is responsible for all of the company's worldwide sales and operations, including end-to-end management of Apple's supply chain, sales activities, and service and support in all markets and countries.\n",
      "Bot: who was before\n",
      "[TOOL CALL] Model requested tool: tavily_search with args: {'exclude_domains': ['apple.com'], 'query': 'apple CEO before tim cook'}\n",
      "Bot: \n",
      "Bot: {\"query\": \"apple CEO before tim cook\", \"follow_up_questions\": null, \"answer\": null, \"images\": [], \"results\": [{\"url\": \"https://www.businessinsider.com/apple-ceo\", \"title\": \"Apple CEO: Company Leadership Transitions, Challenges ...\", \"content\": \"* Before Cook, Steve Jobs took Apple from a deficit to a $309 million profit in his first year as CEO. * The first CEO of Apple was Michael Scott. Michael Scott was at the helm of Apple Computer Company as its president and CEO nearly from the start, after being approached by Michael Markkula, an early investor and advisor to founders Steve Jobs and Steve Wozniak. With Amelio as CEO, Apple acquired Steve Jobs' NeXTSTEP for $400 million, thus bringing Jobs back to the company as an advisor. Following a successful boardroom coup, Steve Jobs became Apple's CEO in July 1997. Tim Cook took over as Apple CEO after Steve Jobs' resignation in August 2011.\", \"score\": 0.86413884, \"raw_content\": null}, {\"url\": \"https://www.historyoasis.com/post/apple-ceo-history\", \"title\": \"Apple's CEO History Through the Years\", \"content\": \"# APPLE's CEO HISTORY THROUGH THE YEARS * Steve Jobs (Interim CEO 1997-2000), (CEO 2000–2011) Apple Computer’s first CEO, Michael Scott, was recruited in 1977 by one of Apple’s investors, Michael Markkula, to provide mature leadership for the inexperienced young founders Steve Jobs and Steve Wozniak. In 1993, Michael Spindler succeeded John Sculley as Apple’s CEO, inheriting a company in freefall. After orchestrating his return via Apple’s acquisition of NeXT and a subsequent boardroom coup, Steve Jobs brought the company back to life by streamlining product lines, focusing on design, and expanding into new categories like portable music players and smartphones. Tim Cook succeeded Steve Jobs as Apple’s CEO in August 2011.\", \"score\": 0.850382, \"raw_content\": null}, {\"url\": \"https://news.ycombinator.com/item?id=11627450\", \"title\": \"Apple is now run by a guy who is more like John Sculley than Steve ...\", \"content\": \"May 4, 2016·There are many other differences from Sculley. Tim Cook has been Apple CEO before--this is his 2nd turn at it. He's a believer and defender of\", \"score\": 0.7568076, \"raw_content\": null}], \"response_time\": 1.3, \"request_id\": \"5f7d9e4d-6876-4976-81ac-d4fe8441c645\"}\n",
      "[NO TOOL CALL] Model responded directly.\n",
      "Bot: The CEOs before Tim Cook were:\n",
      "\n",
      "* Steve Jobs (Interim CEO 1997-2000), (CEO 2000–2011)\n",
      "* Michael Scott (Apple's first CEO, recruited in 1977 by one of Apple's investors, Michael Markkula)\n",
      "* John Sculley\n",
      "* Michael Spindler (succeeded John Sculley as Apple's CEO in 1993)\n",
      "Goodbye!\n"
     ]
    }
   ],
   "source": [
    "def chat_loop():\n",
    "    thread_id = \"ollama_tavily_thread\"\n",
    "    config = {\"configurable\": {\"thread_id\": thread_id}}\n",
    "\n",
    "    while True:\n",
    "        user_input = input(\"\\nUser: \")\n",
    "        if user_input.lower() in (\"quit\", \"exit\", \"q\"):\n",
    "            print(\"Goodbye!\")\n",
    "            break\n",
    "\n",
    "        events = graph.stream(\n",
    "            # {\"messages\": [{\"role\": \"user\", \"content\": user_input}]},\n",
    "            {\n",
    "                \"messages\": [\n",
    "                            # {\"role\": \"system\", \"content\": \"You are a helpful AI assistant. Use Tavily to look up real-time facts. Always provide short, reliable answers.\"},\n",
    "                            {\"role\": \"user\", \"content\": user_input}\n",
    "                        ]\n",
    "                },\n",
    "            config,\n",
    "            stream_mode=\"values\"\n",
    "        )\n",
    "\n",
    "        for event in events:\n",
    "            if \"messages\" in event:\n",
    "                print(\"Bot:\", event[\"messages\"][-1].content)\n",
    "                \n",
    "chat_loop()"
   ]
  },
  {
   "cell_type": "code",
   "execution_count": null,
   "id": "1a385892",
   "metadata": {},
   "outputs": [],
   "source": []
  }
 ],
 "metadata": {
  "kernelspec": {
   "display_name": "metrix",
   "language": "python",
   "name": "python3"
  },
  "language_info": {
   "codemirror_mode": {
    "name": "ipython",
    "version": 3
   },
   "file_extension": ".py",
   "mimetype": "text/x-python",
   "name": "python",
   "nbconvert_exporter": "python",
   "pygments_lexer": "ipython3",
   "version": "3.12.11"
  }
 },
 "nbformat": 4,
 "nbformat_minor": 5
}
