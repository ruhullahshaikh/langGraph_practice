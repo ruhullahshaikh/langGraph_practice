{
 "cells": [
  {
   "cell_type": "code",
   "execution_count": 2,
   "id": "c77f69ad",
   "metadata": {},
   "outputs": [
    {
     "data": {
      "text/plain": [
       "True"
      ]
     },
     "execution_count": 2,
     "metadata": {},
     "output_type": "execute_result"
    }
   ],
   "source": [
    "from langgraph.prebuilt import create_react_agent\n",
    "from langchain_groq import ChatGroq\n",
    "\n",
    "from langgraph.checkpoint.memory import MemorySaver\n",
    "from groq import Groq\n",
    "from dotenv import load_dotenv\n",
    "import os\n",
    "load_dotenv()"
   ]
  },
  {
   "cell_type": "code",
   "execution_count": 3,
   "id": "3e0db3a1",
   "metadata": {},
   "outputs": [],
   "source": [
    "groq_client = Groq(api_key=os.getenv(\"GROQ_API_KEY\"))"
   ]
  },
  {
   "cell_type": "code",
   "execution_count": 4,
   "id": "fd45adad",
   "metadata": {},
   "outputs": [],
   "source": [
    "llm = ChatGroq(api_key=os.getenv(\"GROQ_API_KEY\"),\n",
    "                model=\"llama3-70b-8192\", \n",
    "               temperature=0)\n",
    "tools = []\n",
    "prompt = \"You are a helpful assistant.\"\n",
    "checkpointer = MemorySaver()"
   ]
  },
  {
   "cell_type": "code",
   "execution_count": 5,
   "id": "09e7e3fd",
   "metadata": {},
   "outputs": [],
   "source": [
    "agent = create_react_agent(\n",
    "    model=llm,\n",
    "    tools=tools,          \n",
    "    checkpointer=checkpointer,\n",
    ")"
   ]
  },
  {
   "cell_type": "code",
   "execution_count": 6,
   "id": "47f6533a",
   "metadata": {},
   "outputs": [],
   "source": [
    "thread_id = \"demo-thread\"\n",
    "\n",
    "\n",
    "response1 = agent.invoke(\n",
    "    {\n",
    "        \"messages\":\n",
    "            [\n",
    "                {\n",
    "                    \"role\":\"user\",\n",
    "                    \"content\": \"Hello, who won the world cup in 2022?\"\n",
    "                }\n",
    "            ]\n",
    "    },\n",
    "    config={\n",
    "        \"configurable\":\n",
    "            {\n",
    "                \"thread_id\":thread_id\n",
    "            }\n",
    "    }\n",
    ")"
   ]
  },
  {
   "cell_type": "code",
   "execution_count": 7,
   "id": "f7e29c78",
   "metadata": {},
   "outputs": [
    {
     "data": {
      "text/plain": [
       "{'messages': [HumanMessage(content='Hello, who won the world cup in 2022?', additional_kwargs={}, response_metadata={}, id='b6aa35e6-c326-41ee-a9a8-c3dea8af0da0'),\n",
       "  AIMessage(content='The 2022 FIFA World Cup was won by Argentina! They defeated France 4-2 in a penalty shootout after the match ended 3-3 after extra time in the final on December 18, 2022. It was a thrilling match, and Lionel Messi finally got to lift the World Cup trophy in what was likely his last World Cup appearance.', additional_kwargs={}, response_metadata={'token_usage': {'completion_tokens': 74, 'prompt_tokens': 22, 'total_tokens': 96, 'completion_time': 0.163720529, 'prompt_time': 0.010954329, 'queue_time': 0.166420432, 'total_time': 0.174674858}, 'model_name': 'llama3-70b-8192', 'system_fingerprint': 'fp_de9fa14705', 'service_tier': 'on_demand', 'finish_reason': 'stop', 'logprobs': None}, id='run--4e7ee31b-29d2-4546-b135-89d480d3faab-0', usage_metadata={'input_tokens': 22, 'output_tokens': 74, 'total_tokens': 96})]}"
      ]
     },
     "execution_count": 7,
     "metadata": {},
     "output_type": "execute_result"
    }
   ],
   "source": [
    "response1"
   ]
  },
  {
   "cell_type": "code",
   "execution_count": 8,
   "id": "9932c37e",
   "metadata": {},
   "outputs": [
    {
     "name": "stdout",
     "output_type": "stream",
     "text": [
      "Bot: The 2022 FIFA World Cup was won by Argentina! They defeated France 4-2 in a penalty shootout after the match ended 3-3 after extra time in the final on December 18, 2022. It was a thrilling match, and Lionel Messi finally got to lift the World Cup trophy in what was likely his last World Cup appearance.\n"
     ]
    }
   ],
   "source": [
    "print(\"Bot:\", response1[\"messages\"][-1].content)"
   ]
  },
  {
   "cell_type": "code",
   "execution_count": 9,
   "id": "7299ba56",
   "metadata": {},
   "outputs": [
    {
     "name": "stdout",
     "output_type": "stream",
     "text": [
      "Bot: The 2022 FIFA World Cup was won by Argentina! They defeated France 4-2 in a penalty shootout after the match ended 3-3 after extra time in the final on December 18, 2022. It was a thrilling match, and Lionel Messi finally got to lift the World Cup trophy in what was likely his last World Cup appearance.\n"
     ]
    }
   ],
   "source": [
    "print(\"Bot:\", response1[\"messages\"][-1].content)"
   ]
  },
  {
   "cell_type": "code",
   "execution_count": 10,
   "id": "afbee75c",
   "metadata": {},
   "outputs": [],
   "source": [
    "response2 = agent.invoke(\n",
    "    {\"messages\": [{\"role\": \"user\", \"content\": \"And who scored in the final?\"}]},\n",
    "    config={\"configurable\": {\"thread_id\": thread_id}},\n",
    ")\n"
   ]
  },
  {
   "cell_type": "code",
   "execution_count": 11,
   "id": "7b7f9586",
   "metadata": {},
   "outputs": [
    {
     "name": "stdout",
     "output_type": "stream",
     "text": [
      "Bot: In the 2022 FIFA World Cup Final, the goals were scored by:\n",
      "\n",
      "* Lionel Messi (2 goals) and Ángel Di María for Argentina\n",
      "* Kylian Mbappé (2 goals) for France\n",
      "\n",
      "The match ended 3-3 after extra time, and Argentina won the championship by defeating France 4-2 in the penalty shootout.\n"
     ]
    }
   ],
   "source": [
    "print(\"Bot:\", response2[\"messages\"][-1].content)"
   ]
  },
  {
   "cell_type": "code",
   "execution_count": null,
   "id": "6e0ab69b",
   "metadata": {},
   "outputs": [],
   "source": []
  },
  {
   "cell_type": "code",
   "execution_count": null,
   "id": "65621201",
   "metadata": {},
   "outputs": [],
   "source": []
  },
  {
   "cell_type": "code",
   "execution_count": null,
   "id": "fd7a3494",
   "metadata": {},
   "outputs": [],
   "source": []
  },
  {
   "cell_type": "code",
   "execution_count": null,
   "id": "3fdbb2f5",
   "metadata": {},
   "outputs": [],
   "source": []
  }
 ],
 "metadata": {
  "kernelspec": {
   "display_name": "metrix",
   "language": "python",
   "name": "python3"
  },
  "language_info": {
   "codemirror_mode": {
    "name": "ipython",
    "version": 3
   },
   "file_extension": ".py",
   "mimetype": "text/x-python",
   "name": "python",
   "nbconvert_exporter": "python",
   "pygments_lexer": "ipython3",
   "version": "3.12.11"
  }
 },
 "nbformat": 4,
 "nbformat_minor": 5
}
