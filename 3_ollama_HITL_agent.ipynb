{
 "cells": [
  {
   "cell_type": "code",
   "execution_count": 13,
   "id": "82690586",
   "metadata": {},
   "outputs": [],
   "source": [
    "from typing import Annotated, TypedDict\n",
    "\n",
    "from langgraph.graph import StateGraph, START, END\n",
    "from langgraph.graph.message import add_messages\n",
    "from langgraph.types import Command, interrupt"
   ]
  },
  {
   "cell_type": "code",
   "execution_count": 14,
   "id": "951f6d78",
   "metadata": {},
   "outputs": [],
   "source": [
    "class State(TypedDict):\n",
    "    messages: Annotated[list, add_messages]\n",
    "    \n",
    "graph_builder = StateGraph(State)"
   ]
  },
  {
   "cell_type": "code",
   "execution_count": 15,
   "id": "cc6749d8",
   "metadata": {},
   "outputs": [],
   "source": [
    "from langchain_ollama import ChatOllama\n",
    "\n",
    "llm = ChatOllama(\n",
    "    model=\"dolphin3:latest\", \n",
    "    temperature=0\n",
    ")"
   ]
  },
  {
   "cell_type": "code",
   "execution_count": 16,
   "id": "aefad795",
   "metadata": {},
   "outputs": [
    {
     "data": {
      "text/plain": [
       "<langgraph.graph.state.StateGraph at 0x215d0e1da30>"
      ]
     },
     "execution_count": 16,
     "metadata": {},
     "output_type": "execute_result"
    }
   ],
   "source": [
    "def chatbot_node(state: State):\n",
    "    ai_msg = llm.invoke(state[\"messages\"])\n",
    "    return {\"messages\": [ai_msg]}\n",
    "graph_builder.add_node(\"chatbot\", chatbot_node)"
   ]
  },
  {
   "cell_type": "markdown",
   "id": "ca4cfbce",
   "metadata": {},
   "source": [
    "# Human review node (HITL checkpoint)"
   ]
  },
  {
   "cell_type": "code",
   "execution_count": 17,
   "id": "4f981934",
   "metadata": {},
   "outputs": [
    {
     "data": {
      "text/plain": [
       "<langgraph.graph.state.StateGraph at 0x215d0e1da30>"
      ]
     },
     "execution_count": 17,
     "metadata": {},
     "output_type": "execute_result"
    }
   ],
   "source": [
    "def human_review_node(state: State):\n",
    "    # Pause execution and wait for human confirmation\n",
    "    last_msg = state[\"messages\"][-1].content\n",
    "    print(\"\\n[Draft from AI]:\", last_msg)\n",
    "    user_decision = input(\"[HITL] Approve this? (yes/edit/no): \").strip().lower()\n",
    "\n",
    "    if user_decision == \"yes\":\n",
    "        return state\n",
    "    elif user_decision == \"edit\":\n",
    "        edited = input(\"Enter your corrected response: \")\n",
    "        return {\"messages\": [{\"role\": \"assistant\", \"content\": edited}]}\n",
    "    else:\n",
    "        # Interrupt flow until resumed manually\n",
    "        return interrupt(\"AI response rejected. Provide alternate text.\")\n",
    "    \n",
    "graph_builder.add_node(\"human_review\", human_review_node)"
   ]
  },
  {
   "cell_type": "code",
   "execution_count": 18,
   "id": "bbb0d186",
   "metadata": {},
   "outputs": [
    {
     "data": {
      "text/plain": [
       "<langgraph.graph.state.StateGraph at 0x215d0e1da30>"
      ]
     },
     "execution_count": 18,
     "metadata": {},
     "output_type": "execute_result"
    }
   ],
   "source": [
    "graph_builder.add_edge(START, \"chatbot\")\n",
    "graph_builder.add_edge(\"chatbot\", \"human_review\")\n",
    "graph_builder.add_edge(\"human_review\", END)"
   ]
  },
  {
   "cell_type": "code",
   "execution_count": 19,
   "id": "662d2a84",
   "metadata": {},
   "outputs": [],
   "source": [
    "from langgraph.checkpoint.memory import InMemorySaver\n",
    "\n",
    "memory = InMemorySaver()\n",
    "graph = graph_builder.compile(checkpointer=memory)"
   ]
  },
  {
   "cell_type": "code",
   "execution_count": 20,
   "id": "0d64ad2f",
   "metadata": {},
   "outputs": [
    {
     "data": {
      "image/png": "[encoded data removed]",
      "text/plain": [
       "<IPython.core.display.Image object>"
      ]
     },
     "metadata": {},
     "output_type": "display_data"
    }
   ],
   "source": [
    "from IPython.display import Image, display\n",
    "\n",
    "try:\n",
    "    display(Image(graph.get_graph().draw_mermaid_png()))\n",
    "except Exception:\n",
    "    # This requires some extra dependencies and is optional\n",
    "    pass"
   ]
  },
  {
   "cell_type": "code",
   "execution_count": 21,
   "id": "d500ed51",
   "metadata": {},
   "outputs": [
    {
     "name": "stdout",
     "output_type": "stream",
     "text": [
      "Bot (final): okay\n",
      "Bot (final): How can I assist you today?\n",
      "\n",
      "[Draft from AI]: How can I assist you today?\n",
      "Bot (final): i need name\n",
      "Bot (final): Of course! What kind of name would you like? Do you have any preferences or themes in mind?\n",
      "\n",
      "[Draft from AI]: Of course! What kind of name would you like? Do you have any preferences or themes in mind?\n",
      "Bot (final): Of course! What kind of name would you like? Do you have any preferences or themes in mind?\n",
      "Bot (final): ruhullah\n",
      "Bot (final): The name \"Ruhullah\" is a combination of two Persian words: \"روح\" (rukh), meaning \"spirit,\" and \"الله\" (Allah), which refers to God. So, Ruhullah can be interpreted as \"Spirit of God.\" It's a beautiful and meaningful name with religious significance in Islamic culture.\n",
      "\n",
      "If you're looking for other names or have any specific requirements, feel free to let me know!\n",
      "\n",
      "[Draft from AI]: The name \"Ruhullah\" is a combination of two Persian words: \"روح\" (rukh), meaning \"spirit,\" and \"الله\" (Allah), which refers to God. So, Ruhullah can be interpreted as \"Spirit of God.\" It's a beautiful and meaningful name with religious significance in Islamic culture.\n",
      "\n",
      "If you're looking for other names or have any specific requirements, feel free to let me know!\n",
      "Bot (final): Amanatullah\n",
      "Bot (final): yes\n",
      "Bot (final): The name \"Amanatullah\" is also derived from Persian words. \"آمنت\" (amanet) means \"trust\" or \"deposit,\" and \"الله\" (Allah) has the same meaning as before, referring to God. So, Amanatullah can be interpreted as \"Trust of God.\" It's a name that conveys a sense of faith and trust in a higher power.\n",
      "\n",
      "If you have any other questions about names or anything else, feel free to ask!\n",
      "\n",
      "[Draft from AI]: The name \"Amanatullah\" is also derived from Persian words. \"آمنت\" (amanet) means \"trust\" or \"deposit,\" and \"الله\" (Allah) has the same meaning as before, referring to God. So, Amanatullah can be interpreted as \"Trust of God.\" It's a name that conveys a sense of faith and trust in a higher power.\n",
      "\n",
      "If you have any other questions about names or anything else, feel free to ask!\n",
      "Goodbye!\n"
     ]
    }
   ],
   "source": [
    "def chat_loop():\n",
    "    thread_id = \"ollama_hitl_thread\"\n",
    "    config = {\"configurable\": {\"thread_id\": thread_id}}\n",
    "\n",
    "    while True:\n",
    "        user_input = input(\"\\nUser: \")\n",
    "        if user_input.lower() in (\"quit\", \"exit\", \"q\"):\n",
    "            print(\"Goodbye!\")\n",
    "            break\n",
    "\n",
    "        events = graph.stream(\n",
    "            {\"messages\": [{\"role\": \"user\", \"content\": user_input}]},\n",
    "            config,\n",
    "            stream_mode=\"values\"\n",
    "        )\n",
    "\n",
    "        for ev in events:\n",
    "            if \"messages\" in ev:\n",
    "                print(\"Bot (final):\", ev[\"messages\"][-1].content)\n",
    "\n",
    "chat_loop()"
   ]
  },
  {
   "cell_type": "code",
   "execution_count": null,
   "id": "896b9a8d",
   "metadata": {},
   "outputs": [],
   "source": []
  },
  {
   "cell_type": "code",
   "execution_count": null,
   "id": "9a492952",
   "metadata": {},
   "outputs": [],
   "source": []
  },
  {
   "cell_type": "code",
   "execution_count": null,
   "id": "cfadfbd3",
   "metadata": {},
   "outputs": [],
   "source": []
  },
  {
   "cell_type": "code",
   "execution_count": null,
   "id": "f141b2d0",
   "metadata": {},
   "outputs": [],
   "source": []
  }
 ],
 "metadata": {
  "kernelspec": {
   "display_name": "metrix",
   "language": "python",
   "name": "python3"
  },
  "language_info": {
   "codemirror_mode": {
    "name": "ipython",
    "version": 3
   },
   "file_extension": ".py",
   "mimetype": "text/x-python",
   "name": "python",
   "nbconvert_exporter": "python",
   "pygments_lexer": "ipython3",
   "version": "3.12.11"
  }
 },
 "nbformat": 4,
 "nbformat_minor": 5
}
