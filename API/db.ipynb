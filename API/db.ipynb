{
 "cells": [
  {
   "cell_type": "code",
   "execution_count": 13,
   "id": "248b6d26",
   "metadata": {},
   "outputs": [],
   "source": [
    "import sqlite3\n",
    "\n",
    "\n",
    "conn = sqlite3.connect(\"chatbot.sqlite\")\n",
    "cursor = conn.cursor()"
   ]
  },
  {
   "cell_type": "code",
   "execution_count": 2,
   "id": "17f8e85e",
   "metadata": {},
   "outputs": [
    {
     "data": {
      "text/plain": [
       "<sqlite3.Cursor at 0x2790b0202c0>"
      ]
     },
     "execution_count": 2,
     "metadata": {},
     "output_type": "execute_result"
    }
   ],
   "source": [
    "cursor.execute(\"\"\"\n",
    "CREATE TABLE IF NOT EXISTS users (\n",
    "    id INTEGER PRIMARY KEY AUTOINCREMENT,\n",
    "    username TEXT UNIQUE NOT NULL,\n",
    "    created_at TIMESTAMP DEFAULT CURRENT_TIMESTAMP\n",
    ");\n",
    "\"\"\")"
   ]
  },
  {
   "cell_type": "code",
   "execution_count": 3,
   "id": "1d685ef9",
   "metadata": {},
   "outputs": [
    {
     "data": {
      "text/plain": [
       "<sqlite3.Cursor at 0x2790b0202c0>"
      ]
     },
     "execution_count": 3,
     "metadata": {},
     "output_type": "execute_result"
    }
   ],
   "source": [
    "cursor.execute(\"\"\"\n",
    "CREATE TABLE IF NOT EXISTS threads (\n",
    "    id INTEGER PRIMARY KEY AUTOINCREMENT,\n",
    "    user_id INTEGER,\n",
    "    title TEXT,\n",
    "    created_at TIMESTAMP DEFAULT CURRENT_TIMESTAMP,\n",
    "    FOREIGN KEY(user_id) REFERENCES users(id)\n",
    ");\n",
    "\"\"\")"
   ]
  },
  {
   "cell_type": "code",
   "execution_count": 4,
   "id": "ae1af797",
   "metadata": {},
   "outputs": [
    {
     "data": {
      "text/plain": [
       "<sqlite3.Cursor at 0x2790b0202c0>"
      ]
     },
     "execution_count": 4,
     "metadata": {},
     "output_type": "execute_result"
    }
   ],
   "source": [
    "cursor.execute(\"\"\"\n",
    "CREATE TABLE IF NOT EXISTS messages (\n",
    "    id INTEGER PRIMARY KEY AUTOINCREMENT,\n",
    "    thread_id INTEGER,\n",
    "    role TEXT CHECK(role IN ('user','assistant')),\n",
    "    content TEXT,\n",
    "    created_at TIMESTAMP DEFAULT CURRENT_TIMESTAMP,\n",
    "    FOREIGN KEY(thread_id) REFERENCES threads(id)\n",
    ");\n",
    "\"\"\")"
   ]
  },
  {
   "cell_type": "code",
   "execution_count": 9,
   "id": "35f8e5a0",
   "metadata": {},
   "outputs": [
    {
     "name": "stdout",
     "output_type": "stream",
     "text": [
      "📌 Tables in database:\n",
      " - users\n",
      " - sqlite_sequence\n",
      " - threads\n",
      " - messages\n",
      "\n",
      "\n"
     ]
    }
   ],
   "source": [
    "# --- View all tables in the database ---\n",
    "print(\"📌 Tables in database:\")\n",
    "cursor.execute(\"SELECT name FROM sqlite_master WHERE type='table';\")\n",
    "for table in cursor.fetchall():\n",
    "    print(\" -\", table[0])\n",
    "\n",
    "print(\"\\n\")"
   ]
  },
  {
   "cell_type": "code",
   "execution_count": 10,
   "id": "f68bb834",
   "metadata": {},
   "outputs": [
    {
     "name": "stdout",
     "output_type": "stream",
     "text": [
      "📌 Columns in table 'users':\n",
      "(0, 'id', 'INTEGER', 0, None, 1)\n",
      "(1, 'username', 'TEXT', 1, None, 0)\n",
      "(2, 'created_at', 'TIMESTAMP', 0, 'CURRENT_TIMESTAMP', 0)\n",
      "\n",
      "\n"
     ]
    }
   ],
   "source": [
    "# --- View columns of a table (e.g., 'users') ---\n",
    "table_name = \"users\"\n",
    "print(f\"📌 Columns in table '{table_name}':\")\n",
    "cursor.execute(f\"PRAGMA table_info({table_name});\")\n",
    "for col in cursor.fetchall():\n",
    "    print(col)  # (cid, name, type, notnull, dflt_value, pk)\n",
    "\n",
    "print(\"\\n\")"
   ]
  },
  {
   "cell_type": "code",
   "execution_count": null,
   "id": "c4ce6ab1",
   "metadata": {},
   "outputs": [
    {
     "name": "stdout",
     "output_type": "stream",
     "text": [
      "   id username           created_at\n",
      "0   1   nabeel  2025-08-28 14:39:28\n"
     ]
    }
   ],
   "source": [
    "import pandas as pd\n",
    "\n",
    "table_name = \"users\"\n",
    "\n",
    "# Run query and load directly into DataFrame\n",
    "df = pd.read_sql_query(f\"SELECT * FROM {table_name};\", conn)\n",
    "\n",
    "# Show DataFrame\n",
    "print(df)\n",
    "\n",
    "# Close connection\n",
    "# conn.close()"
   ]
  },
  {
   "cell_type": "code",
   "execution_count": 14,
   "id": "9e15fb8f",
   "metadata": {},
   "outputs": [
    {
     "name": "stdout",
     "output_type": "stream",
     "text": [
      "   id  user_id          title           created_at\n",
      "0   1        1  My first chat  2025-08-28 14:41:23\n",
      "1   2        1    Branch of 1  2025-08-28 14:49:36\n"
     ]
    }
   ],
   "source": [
    "import pandas as pd\n",
    "\n",
    "table_name = \"threads\"\n",
    "\n",
    "# Run query and load directly into DataFrame\n",
    "df = pd.read_sql_query(f\"SELECT * FROM {table_name};\", conn)\n",
    "\n",
    "# Show DataFrame\n",
    "print(df)\n",
    "\n",
    "# Close connection\n",
    "# conn.close()"
   ]
  },
  {
   "cell_type": "code",
   "execution_count": 16,
   "id": "b5572051",
   "metadata": {},
   "outputs": [
    {
     "name": "stdout",
     "output_type": "stream",
     "text": [
      "    id  thread_id       role  \\\n",
      "0    1          1       user   \n",
      "1    2          1  assistant   \n",
      "2    3          1       user   \n",
      "3    4          1  assistant   \n",
      "4    5          1       user   \n",
      "5    6          1  assistant   \n",
      "6    7          1       user   \n",
      "7    8          1  assistant   \n",
      "8    9          2       user   \n",
      "9   10          2  assistant   \n",
      "10  11          2       user   \n",
      "11  12          2  assistant   \n",
      "\n",
      "                                              content           created_at  \n",
      "0                                  Hello bot (edited)  2025-08-28 14:44:08  \n",
      "1   It seems you're referring to a chatbot or virt...  2025-08-28 14:44:13  \n",
      "2                           how are you? I'm Ruhullah  2025-08-28 14:44:38  \n",
      "3   It seems that the name \"Ruhullah\" has a signif...  2025-08-28 14:44:42  \n",
      "4                                    what was my name  2025-08-28 14:44:53  \n",
      "5   Your name is Ruhullah. It's a male Arabic/Pers...  2025-08-28 14:44:56  \n",
      "6                                                  hi  2025-08-28 14:50:41  \n",
      "7   It seems you're saying hello! The word \"hi\" is...  2025-08-28 14:50:44  \n",
      "8                                 what inside planete  2025-08-28 15:02:36  \n",
      "9   The inner planets are the four planets closest...  2025-08-28 15:02:42  \n",
      "10                                    what i smy name  2025-08-28 15:02:52  \n",
      "11  Your name is Ruhullah. It's a male Arabic/Pers...  2025-08-28 15:02:56  \n"
     ]
    }
   ],
   "source": [
    "import pandas as pd\n",
    "\n",
    "table_name = \"messages\"\n",
    "\n",
    "# Run query and load directly into DataFrame\n",
    "df = pd.read_sql_query(f\"SELECT * FROM {table_name};\", conn)\n",
    "\n",
    "# Show DataFrame\n",
    "print(df)\n",
    "\n",
    "# Close connection\n",
    "# conn.close()"
   ]
  },
  {
   "cell_type": "code",
   "execution_count": null,
   "id": "e63c6ddc",
   "metadata": {},
   "outputs": [],
   "source": []
  },
  {
   "cell_type": "code",
   "execution_count": null,
   "id": "9001bd0d",
   "metadata": {},
   "outputs": [],
   "source": []
  }
 ],
 "metadata": {
  "kernelspec": {
   "display_name": "metrix",
   "language": "python",
   "name": "python3"
  },
  "language_info": {
   "codemirror_mode": {
    "name": "ipython",
    "version": 3
   },
   "file_extension": ".py",
   "mimetype": "text/x-python",
   "name": "python",
   "nbconvert_exporter": "python",
   "pygments_lexer": "ipython3",
   "version": "3.12.11"
  }
 },
 "nbformat": 4,
 "nbformat_minor": 5
}
